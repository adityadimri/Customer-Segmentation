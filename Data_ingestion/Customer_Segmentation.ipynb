{
  "nbformat": 4,
  "nbformat_minor": 0,
  "metadata": {
    "colab": {
      "name": "Customer Segmentation.ipynb",
      "provenance": [],
      "mount_file_id": "1kcFF6pXUcZOha35TKzTY3Jk3vUiwjkTE",
      "authorship_tag": "ABX9TyN2WbnIlBptjsXY87VBYhgA",
      "include_colab_link": true
    },
    "kernelspec": {
      "name": "python3",
      "display_name": "Python 3"
    }
  },
  "cells": [
    {
      "cell_type": "markdown",
      "metadata": {
        "id": "view-in-github",
        "colab_type": "text"
      },
      "source": [
        "<a href=\"https://colab.research.google.com/github/adityadimri/Customer-Segmentation/blob/master/Data_ingestion/Customer_Segmentation.ipynb\" target=\"_parent\"><img src=\"https://colab.research.google.com/assets/colab-badge.svg\" alt=\"Open In Colab\"/></a>"
      ]
    },
    {
      "cell_type": "markdown",
      "metadata": {
        "id": "d0zisn6wfDk8",
        "colab_type": "text"
      },
      "source": [
        "# **Setting up spark enviroment on colab**\n"
      ]
    },
    {
      "cell_type": "code",
      "metadata": {
        "id": "-2jdLCJNCsc6",
        "colab_type": "code",
        "colab": {}
      },
      "source": [
        "!apt-get install openjdk-8-jdk-headless -qq > /dev/null\n",
        "!wget -q http://apachemirror.wuchna.com/spark/spark-3.0.0-preview2/spark-3.0.0-preview2-bin-hadoop2.7.tgz\n",
        "!tar xf spark-3.0.0-preview2-bin-hadoop2.7.tgz\n",
        "!pip install -q findspark"
      ],
      "execution_count": 0,
      "outputs": []
    },
    {
      "cell_type": "code",
      "metadata": {
        "id": "LXkmjtG7IElK",
        "colab_type": "code",
        "colab": {}
      },
      "source": [
        "import os\n",
        "os.environ[\"JAVA_HOME\"] = \"/usr/lib/jvm/java-8-openjdk-amd64\"\n",
        "os.environ[\"SPARK_HOME\"] = \"/content/spark-3.0.0-preview2-bin-hadoop2.7\""
      ],
      "execution_count": 0,
      "outputs": []
    },
    {
      "cell_type": "code",
      "metadata": {
        "id": "XpmVEVgMaENt",
        "colab_type": "code",
        "colab": {}
      },
      "source": [
        "import findspark\n",
        "findspark.init()\n",
        "from pyspark.sql import SparkSession\n",
        "spark = SparkSession.builder.master(\"local[*]\").getOrCreate()"
      ],
      "execution_count": 0,
      "outputs": []
    },
    {
      "cell_type": "code",
      "metadata": {
        "id": "xuS4vGbUij0S",
        "colab_type": "code",
        "colab": {}
      },
      "source": [
        "import unzip;"
      ],
      "execution_count": 0,
      "outputs": []
    },
    {
      "cell_type": "code",
      "metadata": {
        "id": "WHiT0J53ix6y",
        "colab_type": "code",
        "colab": {}
      },
      "source": [
        "zip_ref = zipfile.ZipFile(\"/content/drive/My Drive/Iowa_Liquor_Sales.csv.zip\", 'r')\n",
        "zip_ref.extractall(\"/tmp\")\n",
        "zip_ref.close()"
      ],
      "execution_count": 0,
      "outputs": []
    },
    {
      "cell_type": "code",
      "metadata": {
        "id": "AtDUvIaJjItO",
        "colab_type": "code",
        "colab": {}
      },
      "source": [
        "spark = SparkSession \\\n",
        "    .builder \\\n",
        "    .appName(\"RFM Analysis with PySpark\") \\\n",
        "    .getOrCreate()"
      ],
      "execution_count": 0,
      "outputs": []
    },
    {
      "cell_type": "code",
      "metadata": {
        "id": "0OJ1o__FkGzf",
        "colab_type": "code",
        "colab": {
          "base_uri": "https://localhost:8080/",
          "height": 214
        },
        "outputId": "05925e06-0d6c-480c-8ee1-52e9f17c6e92"
      },
      "source": [
        "spark"
      ],
      "execution_count": 9,
      "outputs": [
        {
          "output_type": "execute_result",
          "data": {
            "text/html": [
              "\n",
              "            <div>\n",
              "                <p><b>SparkSession - in-memory</b></p>\n",
              "                \n",
              "        <div>\n",
              "            <p><b>SparkContext</b></p>\n",
              "\n",
              "            <p><a href=\"http://c01aa5158d09:4040\">Spark UI</a></p>\n",
              "\n",
              "            <dl>\n",
              "              <dt>Version</dt>\n",
              "                <dd><code>v3.0.0-preview2</code></dd>\n",
              "              <dt>Master</dt>\n",
              "                <dd><code>local[*]</code></dd>\n",
              "              <dt>AppName</dt>\n",
              "                <dd><code>pyspark-shell</code></dd>\n",
              "            </dl>\n",
              "        </div>\n",
              "        \n",
              "            </div>\n",
              "        "
            ],
            "text/plain": [
              "<pyspark.sql.session.SparkSession at 0x7f5921d4eba8>"
            ]
          },
          "metadata": {
            "tags": []
          },
          "execution_count": 9
        }
      ]
    },
    {
      "cell_type": "code",
      "metadata": {
        "id": "LxVHodRAkOem",
        "colab_type": "code",
        "colab": {}
      },
      "source": [
        "data = spark.read.format(\"csv\").option(\"header\", \"true\").load(\"/tmp/Iowa_Liquor_Sales.csv\")"
      ],
      "execution_count": 0,
      "outputs": []
    },
    {
      "cell_type": "code",
      "metadata": {
        "id": "h5ZZxN-Xk5ej",
        "colab_type": "code",
        "colab": {
          "base_uri": "https://localhost:8080/",
          "height": 454
        },
        "outputId": "148f6d19-4eb0-4dfa-9a33-8ccecac860b5"
      },
      "source": [
        "data.printSchema()"
      ],
      "execution_count": 13,
      "outputs": [
        {
          "output_type": "stream",
          "text": [
            "root\n",
            " |-- Invoice/Item Number: string (nullable = true)\n",
            " |-- Date: string (nullable = true)\n",
            " |-- Store Number: string (nullable = true)\n",
            " |-- Store Name: string (nullable = true)\n",
            " |-- Address: string (nullable = true)\n",
            " |-- City: string (nullable = true)\n",
            " |-- Zip Code: string (nullable = true)\n",
            " |-- Store Location: string (nullable = true)\n",
            " |-- County Number: string (nullable = true)\n",
            " |-- County: string (nullable = true)\n",
            " |-- Category: string (nullable = true)\n",
            " |-- Category Name: string (nullable = true)\n",
            " |-- Vendor Number: string (nullable = true)\n",
            " |-- Vendor Name: string (nullable = true)\n",
            " |-- Item Number: string (nullable = true)\n",
            " |-- Item Description: string (nullable = true)\n",
            " |-- Pack: string (nullable = true)\n",
            " |-- Bottle Volume (ml): string (nullable = true)\n",
            " |-- State Bottle Cost: string (nullable = true)\n",
            " |-- State Bottle Retail: string (nullable = true)\n",
            " |-- Bottles Sold: string (nullable = true)\n",
            " |-- Sale (Dollars): string (nullable = true)\n",
            " |-- Volume Sold (Liters): string (nullable = true)\n",
            " |-- Volume Sold (Gallons): string (nullable = true)\n",
            "\n"
          ],
          "name": "stdout"
        }
      ]
    },
    {
      "cell_type": "code",
      "metadata": {
        "id": "p7UzhcNOlKvQ",
        "colab_type": "code",
        "colab": {
          "base_uri": "https://localhost:8080/",
          "height": 121
        },
        "outputId": "a60ce70d-f6b3-4693-d0ae-31eeb9b00b31"
      },
      "source": [
        "data.head(5)"
      ],
      "execution_count": 16,
      "outputs": [
        {
          "output_type": "execute_result",
          "data": {
            "text/plain": [
              "[Row(Invoice/Item Number='S29198800001', Date='11/20/2015', Store Number='2191', Store Name='Keokuk Spirits', Address='1013 MAIN', City='KEOKUK', Zip Code='52632', Store Location='1013 MAIN', County Number=None, County=None, Category=None, Category Name=None, Vendor Number=None, Vendor Name=None, Item Number=None, Item Description=None, Pack=None, Bottle Volume (ml)=None, State Bottle Cost=None, State Bottle Retail=None, Bottles Sold=None, Sale (Dollars)=None, Volume Sold (Liters)=None, Volume Sold (Gallons)=None),\n",
              " Row(Invoice/Item Number='KEOKUK 52632', Date=None, Store Number=None, Store Name=None, Address=None, City=None, Zip Code=None, Store Location=None, County Number=None, County=None, Category=None, Category Name=None, Vendor Number=None, Vendor Name=None, Item Number=None, Item Description=None, Pack=None, Bottle Volume (ml)=None, State Bottle Cost=None, State Bottle Retail=None, Bottles Sold=None, Sale (Dollars)=None, Volume Sold (Liters)=None, Volume Sold (Gallons)=None),\n",
              " Row(Invoice/Item Number='(40.39978', Date=' -91.387531)\"', Store Number='56', Store Name='Lee', Address=None, City=None, Zip Code='255', Store Location='Wilson Daniels Ltd.', County Number='297', County='Templeton Rye w/Flask', Category='6', Category Name='750', Vendor Number='$18.09', Vendor Name='$27.14', Item Number='6', Item Description='$162.84', Pack='4.50', Bottle Volume (ml)='1.19', State Bottle Cost=None, State Bottle Retail=None, Bottles Sold=None, Sale (Dollars)=None, Volume Sold (Liters)=None, Volume Sold (Gallons)=None),\n",
              " Row(Invoice/Item Number='S29195400002', Date='11/21/2015', Store Number='2205', Store Name=\"Ding's Honk And Holler\", Address='900 E WASHINGTON', City='CLARINDA', Zip Code='51632', Store Location='900 E WASHINGTON', County Number=None, County=None, Category=None, Category Name=None, Vendor Number=None, Vendor Name=None, Item Number=None, Item Description=None, Pack=None, Bottle Volume (ml)=None, State Bottle Cost=None, State Bottle Retail=None, Bottles Sold=None, Sale (Dollars)=None, Volume Sold (Liters)=None, Volume Sold (Gallons)=None),\n",
              " Row(Invoice/Item Number='CLARINDA 51632', Date=None, Store Number=None, Store Name=None, Address=None, City=None, Zip Code=None, Store Location=None, County Number=None, County=None, Category=None, Category Name=None, Vendor Number=None, Vendor Name=None, Item Number=None, Item Description=None, Pack=None, Bottle Volume (ml)=None, State Bottle Cost=None, State Bottle Retail=None, Bottles Sold=None, Sale (Dollars)=None, Volume Sold (Liters)=None, Volume Sold (Gallons)=None)]"
            ]
          },
          "metadata": {
            "tags": []
          },
          "execution_count": 16
        }
      ]
    },
    {
      "cell_type": "code",
      "metadata": {
        "id": "gCLAru8K4jpe",
        "colab_type": "code",
        "colab": {}
      },
      "source": [
        ""
      ],
      "execution_count": 0,
      "outputs": []
    }
  ]
}